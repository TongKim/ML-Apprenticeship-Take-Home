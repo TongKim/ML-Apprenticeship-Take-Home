{
 "cells": [
  {
   "cell_type": "code",
   "execution_count": null,
   "metadata": {},
   "outputs": [],
   "source": []
  },
  {
   "cell_type": "markdown",
   "metadata": {},
   "source": []
  },
  {
   "cell_type": "code",
   "execution_count": 8,
   "metadata": {},
   "outputs": [],
   "source": [
    "import torch\n",
    "from transformers import AutoModel, AutoTokenizer\n",
    "import numpy as np"
   ]
  },
  {
   "cell_type": "code",
   "execution_count": 9,
   "metadata": {},
   "outputs": [],
   "source": [
    "model_name = 'sentence-transformers/bert-base-nli-mean-tokens'\n",
    "tokenizer = AutoTokenizer.from_pretrained(model_name)\n",
    "model = AutoModel.from_pretrained(model_name)"
   ]
  },
  {
   "cell_type": "code",
   "execution_count": 10,
   "metadata": {},
   "outputs": [],
   "source": [
    "def get_sentence_embedding(sentence, tokenizer, model):\n",
    "    inputs = tokenizer(sentence, return_tensors='pt', padding=True, truncation=True, max_length=128)\n",
    "    with torch.no_grad():\n",
    "        outputs = model(**inputs)\n",
    "        # Take the output of the last layer and calculate the average of all tokens as the sentence embedding\n",
    "        embeddings = outputs.last_hidden_state.mean(dim=1)\n",
    "    return embeddings.numpy()\n"
   ]
  },
  {
   "cell_type": "code",
   "execution_count": 11,
   "metadata": {},
   "outputs": [
    {
     "name": "stdout",
     "output_type": "stream",
     "text": [
      "Sentence: Fetch Rewards is a good company!\n",
      "Embedding: [-0.09339077 -0.05491878  1.6760554   0.22114281  0.03420132 -0.6127432\n",
      " -0.4563969   0.31616974  0.5116602  -0.22488236] ...\n",
      "Sentence: I need this job.\n",
      "Embedding: [ 0.22050771  0.09618075  2.0571465  -0.02566287 -0.1751951   0.36857465\n",
      "  0.26772994  0.2326076   0.915058   -0.8603219 ] ...\n",
      "Sentence: Deep learning models are powerful.\n",
      "Embedding: [-0.30292642 -0.42733595  1.2662299   0.7802493  -0.03143926 -1.0125474\n",
      " -0.6239908   0.12163259  1.2622325  -0.6915277 ] ...\n"
     ]
    }
   ],
   "source": [
    "# test \n",
    "sentences = [\"Fetch Rewards is a good company!\", \"I need this job.\", \"Deep learning models are powerful.\"]\n",
    "\n",
    "for sentence in sentences:\n",
    "    embedding = get_sentence_embedding(sentence, tokenizer, model)\n",
    "    print(f\"Sentence: {sentence}\")\n",
    "    print(\"Embedding:\", embedding[0][:10], \"...\")  # display only the first 10 values\n"
   ]
  }
 ],
 "metadata": {
  "kernelspec": {
   "display_name": "Pytorch",
   "language": "python",
   "name": "python3"
  },
  "language_info": {
   "codemirror_mode": {
    "name": "ipython",
    "version": 3
   },
   "file_extension": ".py",
   "mimetype": "text/x-python",
   "name": "python",
   "nbconvert_exporter": "python",
   "pygments_lexer": "ipython3",
   "version": "3.11.9"
  }
 },
 "nbformat": 4,
 "nbformat_minor": 2
}
